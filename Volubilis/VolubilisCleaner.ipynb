{
 "cells": [
  {
   "cell_type": "markdown",
   "id": "f4a8314f-8eb4-4ecb-83b6-364a8daffc35",
   "metadata": {},
   "source": [
    "# Cleaning Volubilis data\n",
    "Website: https://belisan-volubilis.blogspot.com/   \n",
    "Download link: https://sourceforge.net/projects/belisan/files/VOLUBILIS.ods/download  "
   ]
  },
  {
   "cell_type": "code",
   "execution_count": 1,
   "id": "dcd6c5a0-e67b-4976-9748-46183856ec84",
   "metadata": {},
   "outputs": [],
   "source": [
    "import pandas as pd\n",
    "from tqdm import tqdm\n",
    "from pythainlp.util import isthaichar"
   ]
  },
  {
   "cell_type": "markdown",
   "id": "466460de-4a4d-4c8e-b4a4-b008c1dd1b3b",
   "metadata": {},
   "source": [
    "## import data\n",
    "\n",
    "SUPER LONG!!\n",
    "\n",
    "Recomended to comment out this cell if runned once.\n",
    "\n",
    "If updating data, delete \"en_th_dictionary.csv\" file and run this again"
   ]
  },
  {
   "cell_type": "code",
   "execution_count": null,
   "id": "9385d13f-749f-4189-bf55-c183235a15db",
   "metadata": {},
   "outputs": [],
   "source": [
    "df_original = pd.read_excel(\"VOLUBILIS.ods\", engine=\"odf\")\n",
    "\n",
    "# extract only Thai and English\n",
    "th = df_original[\"THA\"][15:]\n",
    "en = df_original[\"ENG\"][15:]\n",
    "\n",
    "df = pd.DataFrame([th, en]).T\n",
    "df.to_csv(\"en_th_dictionary.csv\", index=False)"
   ]
  },
  {
   "cell_type": "code",
   "execution_count": 2,
   "id": "3b0a175f-f3a3-4e52-bd57-1055bedd6b90",
   "metadata": {},
   "outputs": [
    {
     "data": {
      "text/html": [
       "<div>\n",
       "<style scoped>\n",
       "    .dataframe tbody tr th:only-of-type {\n",
       "        vertical-align: middle;\n",
       "    }\n",
       "\n",
       "    .dataframe tbody tr th {\n",
       "        vertical-align: top;\n",
       "    }\n",
       "\n",
       "    .dataframe thead th {\n",
       "        text-align: right;\n",
       "    }\n",
       "</style>\n",
       "<table border=\"1\" class=\"dataframe\">\n",
       "  <thead>\n",
       "    <tr style=\"text-align: right;\">\n",
       "      <th></th>\n",
       "      <th>THA</th>\n",
       "      <th>ENG</th>\n",
       "    </tr>\n",
       "  </thead>\n",
       "  <tbody>\n",
       "    <tr>\n",
       "      <th>0</th>\n",
       "      <td>อ-</td>\n",
       "      <td>un- (pref.)</td>\n",
       "    </tr>\n",
       "    <tr>\n",
       "      <th>1</th>\n",
       "      <td>อะ</td>\n",
       "      <td>[final particle]</td>\n",
       "    </tr>\n",
       "    <tr>\n",
       "      <th>2</th>\n",
       "      <td>อ่ะ</td>\n",
       "      <td>[expression of resignation]</td>\n",
       "    </tr>\n",
       "    <tr>\n",
       "      <th>3</th>\n",
       "      <td>อ๊ะ</td>\n",
       "      <td>What! ; Oh! ; Eh!</td>\n",
       "    </tr>\n",
       "    <tr>\n",
       "      <th>4</th>\n",
       "      <td>อา</td>\n",
       "      <td>uncle ; aunt ; father's younger brother ; fath...</td>\n",
       "    </tr>\n",
       "    <tr>\n",
       "      <th>...</th>\n",
       "      <td>...</td>\n",
       "      <td>...</td>\n",
       "    </tr>\n",
       "    <tr>\n",
       "      <th>116418</th>\n",
       "      <td>สน. (สกลนคร)</td>\n",
       "      <td>Sakon Nakhon Province</td>\n",
       "    </tr>\n",
       "    <tr>\n",
       "      <th>116419</th>\n",
       "      <td>ตปท. (ต่างประเทศ)</td>\n",
       "      <td>abroad ; overseas</td>\n",
       "    </tr>\n",
       "    <tr>\n",
       "      <th>116420</th>\n",
       "      <td>ทบ. (กองทัพบก, ทหารบก)</td>\n",
       "      <td>Royal Thai Army</td>\n",
       "    </tr>\n",
       "    <tr>\n",
       "      <th>116421</th>\n",
       "      <td>ตร.</td>\n",
       "      <td>police</td>\n",
       "    </tr>\n",
       "    <tr>\n",
       "      <th>116422</th>\n",
       "      <td>nan</td>\n",
       "      <td>nan</td>\n",
       "    </tr>\n",
       "  </tbody>\n",
       "</table>\n",
       "<p>116423 rows × 2 columns</p>\n",
       "</div>"
      ],
      "text/plain": [
       "                           THA  \\\n",
       "0                           อ-   \n",
       "1                           อะ   \n",
       "2                          อ่ะ   \n",
       "3                          อ๊ะ   \n",
       "4                           อา   \n",
       "...                        ...   \n",
       "116418            สน. (สกลนคร)   \n",
       "116419       ตปท. (ต่างประเทศ)   \n",
       "116420  ทบ. (กองทัพบก, ทหารบก)   \n",
       "116421                     ตร.   \n",
       "116422                     nan   \n",
       "\n",
       "                                                      ENG  \n",
       "0                                             un- (pref.)  \n",
       "1                                        [final particle]  \n",
       "2                             [expression of resignation]  \n",
       "3                                       What! ; Oh! ; Eh!  \n",
       "4       uncle ; aunt ; father's younger brother ; fath...  \n",
       "...                                                   ...  \n",
       "116418                              Sakon Nakhon Province  \n",
       "116419                                  abroad ; overseas  \n",
       "116420                                    Royal Thai Army  \n",
       "116421                                             police  \n",
       "116422                                                nan  \n",
       "\n",
       "[116423 rows x 2 columns]"
      ]
     },
     "execution_count": 2,
     "metadata": {},
     "output_type": "execute_result"
    }
   ],
   "source": [
    "# for handling skipping\n",
    "# don't comment out this one\n",
    "\n",
    "df = pd.read_csv(\"en_th_dictionary.csv\")\n",
    "df['THA'] = df['THA'].astype(str)\n",
    "df['ENG'] = df['ENG'].astype(str)\n",
    "df"
   ]
  },
  {
   "cell_type": "code",
   "execution_count": 5,
   "id": "c232a87b-bb48-4993-9bdf-58090ccc00de",
   "metadata": {},
   "outputs": [
    {
     "data": {
      "text/plain": [
       "(115675, 2)"
      ]
     },
     "execution_count": 5,
     "metadata": {},
     "output_type": "execute_result"
    }
   ],
   "source": [
    "df.shape"
   ]
  },
  {
   "cell_type": "markdown",
   "id": "cd42d3d7-4757-485c-873b-134b675273a2",
   "metadata": {},
   "source": [
    "## Clean"
   ]
  },
  {
   "cell_type": "markdown",
   "id": "12cd9c40-0b33-4348-b299-a15ae6b4c74c",
   "metadata": {},
   "source": [
    "### rid NA"
   ]
  },
  {
   "cell_type": "code",
   "execution_count": 3,
   "id": "9480d98c-9d2e-4edd-8f88-6043a21e6f7b",
   "metadata": {},
   "outputs": [
    {
     "data": {
      "text/plain": [
       "(116422, 2)"
      ]
     },
     "execution_count": 3,
     "metadata": {},
     "output_type": "execute_result"
    }
   ],
   "source": [
    "#rid NA\n",
    "df = df[df['THA'] != 'nan']\n",
    "df.shape"
   ]
  },
  {
   "cell_type": "markdown",
   "id": "228c5351-9b77-4aff-b551-1cb3e39ce3f5",
   "metadata": {},
   "source": [
    "### rid -\n",
    "prefix words has \"-\" at last"
   ]
  },
  {
   "cell_type": "code",
   "execution_count": 4,
   "id": "034eb405-5456-455b-95ea-a4af927dd700",
   "metadata": {},
   "outputs": [
    {
     "data": {
      "text/plain": [
       "(115675, 2)"
      ]
     },
     "execution_count": 4,
     "metadata": {},
     "output_type": "execute_result"
    }
   ],
   "source": [
    "df = df[~df['THA'].str.endswith('-')]\n",
    "df.shape"
   ]
  },
  {
   "cell_type": "markdown",
   "id": "df13ba0e-8a19-4fd0-9ed5-7504ce8c753e",
   "metadata": {},
   "source": [
    "### Total cleaning\n",
    "look one by one"
   ]
  },
  {
   "cell_type": "code",
   "execution_count": 6,
   "id": "34dacd42-fb56-4f23-bb38-c895b25b57e6",
   "metadata": {},
   "outputs": [
    {
     "name": "stderr",
     "output_type": "stream",
     "text": [
      "100%|██████████| 115675/115675 [00:18<00:00, 6096.72it/s]\n"
     ]
    },
    {
     "data": {
      "text/html": [
       "<div>\n",
       "<style scoped>\n",
       "    .dataframe tbody tr th:only-of-type {\n",
       "        vertical-align: middle;\n",
       "    }\n",
       "\n",
       "    .dataframe tbody tr th {\n",
       "        vertical-align: top;\n",
       "    }\n",
       "\n",
       "    .dataframe thead th {\n",
       "        text-align: right;\n",
       "    }\n",
       "</style>\n",
       "<table border=\"1\" class=\"dataframe\">\n",
       "  <thead>\n",
       "    <tr style=\"text-align: right;\">\n",
       "      <th></th>\n",
       "      <th>THA</th>\n",
       "      <th>ENG</th>\n",
       "    </tr>\n",
       "  </thead>\n",
       "  <tbody>\n",
       "    <tr>\n",
       "      <th>0</th>\n",
       "      <td>อ๊ะ</td>\n",
       "      <td>What! ; Oh! ; Eh!</td>\n",
       "    </tr>\n",
       "    <tr>\n",
       "      <th>1</th>\n",
       "      <td>อา</td>\n",
       "      <td>uncle ; aunt ; father's younger brother ; fath...</td>\n",
       "    </tr>\n",
       "    <tr>\n",
       "      <th>2</th>\n",
       "      <td>อา</td>\n",
       "      <td>Ah! ; Hmm ; Oh!</td>\n",
       "    </tr>\n",
       "    <tr>\n",
       "      <th>3</th>\n",
       "      <td>อา</td>\n",
       "      <td>?</td>\n",
       "    </tr>\n",
       "    <tr>\n",
       "      <th>4</th>\n",
       "      <td>อ๋า</td>\n",
       "      <td>?</td>\n",
       "    </tr>\n",
       "    <tr>\n",
       "      <th>...</th>\n",
       "      <td>...</td>\n",
       "      <td>...</td>\n",
       "    </tr>\n",
       "    <tr>\n",
       "      <th>121116</th>\n",
       "      <td>ต่างประเทศ</td>\n",
       "      <td>abroad ; overseas</td>\n",
       "    </tr>\n",
       "    <tr>\n",
       "      <th>121117</th>\n",
       "      <td>ทบ.</td>\n",
       "      <td>Royal Thai Army</td>\n",
       "    </tr>\n",
       "    <tr>\n",
       "      <th>121118</th>\n",
       "      <td>กองทัพบก</td>\n",
       "      <td>Royal Thai Army</td>\n",
       "    </tr>\n",
       "    <tr>\n",
       "      <th>121119</th>\n",
       "      <td>ทหารบก</td>\n",
       "      <td>Royal Thai Army</td>\n",
       "    </tr>\n",
       "    <tr>\n",
       "      <th>121120</th>\n",
       "      <td>ตร.</td>\n",
       "      <td>police</td>\n",
       "    </tr>\n",
       "  </tbody>\n",
       "</table>\n",
       "<p>121121 rows × 2 columns</p>\n",
       "</div>"
      ],
      "text/plain": [
       "               THA                                                ENG\n",
       "0              อ๊ะ                                  What! ; Oh! ; Eh!\n",
       "1               อา  uncle ; aunt ; father's younger brother ; fath...\n",
       "2               อา                                    Ah! ; Hmm ; Oh!\n",
       "3              อา                                                   ?\n",
       "4              อ๋า                                                  ?\n",
       "...            ...                                                ...\n",
       "121116  ต่างประเทศ                                  abroad ; overseas\n",
       "121117         ทบ.                                    Royal Thai Army\n",
       "121118    กองทัพบก                                    Royal Thai Army\n",
       "121119      ทหารบก                                    Royal Thai Army\n",
       "121120         ตร.                                             police\n",
       "\n",
       "[121121 rows x 2 columns]"
      ]
     },
     "execution_count": 6,
     "metadata": {},
     "output_type": "execute_result"
    }
   ],
   "source": [
    "th_new = []\n",
    "en_new = []\n",
    "for cnt in tqdm(range(df.shape[0])):\n",
    "    th = df.iloc[cnt][\"THA\"]\n",
    "    en = df.iloc[cnt][\"ENG\"]\n",
    "    \n",
    "    if en[0] == \"[\":\n",
    "        continue\n",
    "    \n",
    "    ths = [th]\n",
    "    \n",
    "    _cnt = 0\n",
    "    #repeat until all words checked\n",
    "    while _cnt < len(ths):\n",
    "        th = ths[_cnt]\n",
    "        \n",
    "        #seperate ; to 2 words\n",
    "        if \";\" in th:\n",
    "            del ths[_cnt]\n",
    "        \n",
    "            ths += th.split(\";\")\n",
    "        \n",
    "            continue\n",
    "        \n",
    "        #seperate to 2 words\n",
    "        if \"=\" in th:\n",
    "            del ths[_cnt]\n",
    "            \n",
    "            ths += th.split(\"=\")\n",
    "        \n",
    "            continue\n",
    "            \n",
    "        # seperate word inside ()\n",
    "        if \"(\"in th:\n",
    "            del ths[_cnt]\n",
    "            \n",
    "            sp = th.split(\"(\")\n",
    "            \n",
    "            ths.append(sp[0])\n",
    "            ths.append(sp[1].split(\")\")[0])\n",
    "            \n",
    "            continue\n",
    "            \n",
    "        # seperate , to 2 words\n",
    "        if \",\" in th:            \n",
    "            del ths[_cnt]\n",
    "            \n",
    "            sp = th.split(\",\")\n",
    "            \n",
    "            ths.append(sp[0])\n",
    "            ths.append(sp[1])\n",
    "            \n",
    "            continue\n",
    "        \n",
    "        # all conditions checked for this word\n",
    "        _cnt += 1\n",
    "    \n",
    "    #final cleaning\n",
    "    for th in ths:\n",
    "        th = th.replace(\"…\", \"\")\n",
    "        th = th.replace(\" \", \"\")\n",
    "        th = th.replace(\"[\", \"\")\n",
    "        th = th.replace(\"]\", \"\")\n",
    "        \n",
    "        th_new.append(th)\n",
    "        en_new.append(en)\n",
    "        \n",
    "df_new = pd.DataFrame({\"THA\":th_new, \"ENG\":en_new})\n",
    "df_new"
   ]
  },
  {
   "cell_type": "markdown",
   "id": "1f81b290-640b-4fde-80da-01b28bd47fc3",
   "metadata": {},
   "source": [
    "### Save data"
   ]
  },
  {
   "cell_type": "code",
   "execution_count": null,
   "id": "b4a62bef-5d7c-4ada-a61e-c1b6d7781701",
   "metadata": {},
   "outputs": [],
   "source": [
    "with open(\"wiki_titles.txt\", \"w\", encoding=\"utf-8\") as f:\n",
    "    f.write(\"\\n\".join(list(ths)))"
   ]
  }
 ],
 "metadata": {
  "kernelspec": {
   "display_name": "Python (Local)",
   "language": "python",
   "name": "local-base"
  },
  "language_info": {
   "codemirror_mode": {
    "name": "ipython",
    "version": 3
   },
   "file_extension": ".py",
   "mimetype": "text/x-python",
   "name": "python",
   "nbconvert_exporter": "python",
   "pygments_lexer": "ipython3",
   "version": "3.7.12"
  }
 },
 "nbformat": 4,
 "nbformat_minor": 5
}
